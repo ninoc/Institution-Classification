{
 "cells": [
  {
   "cell_type": "markdown",
   "metadata": {
    "id": "8t9HXYluh692"
   },
   "source": [
    "# Welcome !\n",
    "This CoLab notebook is a walkthough on how to use Maire Volz function **CarnegieMatching_OneSpreadsheet()** in the .py file **CarnegieMatchingFunctions.py**. The final goal of this tutorial is to identify the research and MSI classification of each institution name included in an input spreadsheet.\n",
    "\n",
    "The files you will need to run this code are listed below:\n",
    "1. Your own CoLab notebook.\n",
    "2. The file **CarnegieMatchingFunctions.py**.\n",
    "3. The most up-to-date \"exceptions\" file, useful to have the date of creation in the name of the file: **Exceptions_3-10_1.csv**.\n",
    "4. Carnegie's database of institutions (2021 is the latest): **CarnegieClassification_Data.csv**.\n",
    "5. An input file of your choosing. In this notebook, I will be using **Inst_class_test.csv**.\n",
    "\n",
    "Please make sure each of these required files are on your device before beginning this tutorial. If you do not have access to these files, contact antonino.cucchiara@nasa.gov. Thank you !\n",
    "\n",
    "\n",
    "Original Github:[Maire Volz](https://github.com/maireav/NASA-Internship/tree/main/Fellow%20and%20Institution%20Map)"
   ]
  },
  {
   "cell_type": "markdown",
   "metadata": {
    "id": "K1aJuB5MlcSt"
   },
   "source": [
    "### STEP 1: Import packages and files.\n",
    "Before we begin coding, we have import all of our necessary packages and files. The files listed in the previous text cell should be downloaded onto your device for access."
   ]
  },
  {
   "cell_type": "code",
   "execution_count": 3,
   "metadata": {
    "colab": {
     "base_uri": "https://localhost:8080/"
    },
    "id": "B9MvNJC5tN4j",
    "outputId": "3b32e9dd-aeee-4f8a-b116-6faa517b260e"
   },
   "outputs": [],
   "source": [
    "# It is easier sometimes to use Google Colab as many useful libraries are available there already. \n",
    "# In order for .py files to be imported, first, you must mount your google drive in google colab\n",
    "#UNCOMMENT the following two lines\n",
    "#from google.colab import drive\n",
    "#drive.mount('/content/drive')"
   ]
  },
  {
   "cell_type": "code",
   "execution_count": 4,
   "metadata": {
    "id": "d0I7lL8Rnmdj"
   },
   "outputs": [],
   "source": [
    "# Import pandas\n",
    "import pandas as pd"
   ]
  },
  {
   "cell_type": "code",
   "execution_count": 5,
   "metadata": {
    "colab": {
     "base_uri": "https://localhost:8080/"
    },
    "id": "gzblz1Rz8570",
    "outputId": "0658fab5-e0df-4134-e626-e8521a513bb8"
   },
   "outputs": [
    {
     "name": "stdout",
     "output_type": "stream",
     "text": [
      "/Users/acucchia/codes/ninoc_git/Institution_classification\r\n"
     ]
    }
   ],
   "source": [
    "!pwd"
   ]
  },
  {
   "cell_type": "code",
   "execution_count": 6,
   "metadata": {
    "id": "-9mnxfCZSIkm"
   },
   "outputs": [],
   "source": [
    "# Import the Carnegie and Exceptions databases\n",
    "# Define the directory path of the current tutorial directory and of your necessary files. On your Google Drive, \n",
    "#it could something like the following:\n",
    "#topdirectory = '/content/drive/MyDrive/Colab Notebooks/Carnegie Matching Tutorial/'\n",
    "#\n",
    "topdirectory = '/Users/acucchia/codes/ninoc_git/Institution_classification/'\n",
    "#\n",
    "carnegieData = pd.read_csv(topdirectory + 'CarnegieClassification_Data.csv')\n",
    "exceptionsData = pd.read_csv(topdirectory + 'Exceptions_01_26b_24.csv')"
   ]
  },
  {
   "cell_type": "code",
   "execution_count": 7,
   "metadata": {
    "id": "ZeCZd1b7tXKq"
   },
   "outputs": [],
   "source": [
    "# Now, we will import the functions from CarnegieMatchingFunctions.py.\n",
    "# Since we've already mounted Google Drive, we can now insert the directory to your python path using sys. The argument of the \"sys.path.append\" function should be the path of the directory in which the .py file is saved.\n",
    "import sys\n",
    "sys.path.append(topdirectory)"
   ]
  },
  {
   "cell_type": "code",
   "execution_count": 8,
   "metadata": {
    "id": "Pc8TY1vDKMqx"
   },
   "outputs": [],
   "source": [
    "import CarnegieMatchingFunctions as CMF"
   ]
  },
  {
   "cell_type": "code",
   "execution_count": 9,
   "metadata": {
    "colab": {
     "base_uri": "https://localhost:8080/",
     "height": 423
    },
    "id": "6snhIOrCQZQa",
    "outputId": "648b5694-e8da-429e-8492-cc7b5f23629b"
   },
   "outputs": [
    {
     "data": {
      "text/html": [
       "<div>\n",
       "<style scoped>\n",
       "    .dataframe tbody tr th:only-of-type {\n",
       "        vertical-align: middle;\n",
       "    }\n",
       "\n",
       "    .dataframe tbody tr th {\n",
       "        vertical-align: top;\n",
       "    }\n",
       "\n",
       "    .dataframe thead th {\n",
       "        text-align: right;\n",
       "    }\n",
       "</style>\n",
       "<table border=\"1\" class=\"dataframe\">\n",
       "  <thead>\n",
       "    <tr style=\"text-align: right;\">\n",
       "      <th></th>\n",
       "      <th>Institution</th>\n",
       "    </tr>\n",
       "  </thead>\n",
       "  <tbody>\n",
       "    <tr>\n",
       "      <th>0</th>\n",
       "      <td>Jackson State University</td>\n",
       "    </tr>\n",
       "    <tr>\n",
       "      <th>1</th>\n",
       "      <td>Tuskegee University</td>\n",
       "    </tr>\n",
       "    <tr>\n",
       "      <th>2</th>\n",
       "      <td>Delaware State University</td>\n",
       "    </tr>\n",
       "    <tr>\n",
       "      <th>3</th>\n",
       "      <td>Colorado Mesa University</td>\n",
       "    </tr>\n",
       "    <tr>\n",
       "      <th>4</th>\n",
       "      <td>Delaware State University</td>\n",
       "    </tr>\n",
       "    <tr>\n",
       "      <th>5</th>\n",
       "      <td>California State University, Northridge</td>\n",
       "    </tr>\n",
       "    <tr>\n",
       "      <th>6</th>\n",
       "      <td>Florida Agricultural and Mechanical University</td>\n",
       "    </tr>\n",
       "    <tr>\n",
       "      <th>7</th>\n",
       "      <td>University of Houston-Clear Lake</td>\n",
       "    </tr>\n",
       "    <tr>\n",
       "      <th>8</th>\n",
       "      <td>California State University Northridge</td>\n",
       "    </tr>\n",
       "    <tr>\n",
       "      <th>9</th>\n",
       "      <td>California State University Los Angels</td>\n",
       "    </tr>\n",
       "    <tr>\n",
       "      <th>10</th>\n",
       "      <td>Southern Nazarene Univeristy</td>\n",
       "    </tr>\n",
       "    <tr>\n",
       "      <th>11</th>\n",
       "      <td>Xavier UNiversity of Louisiana</td>\n",
       "    </tr>\n",
       "    <tr>\n",
       "      <th>12</th>\n",
       "      <td>San Jose State University</td>\n",
       "    </tr>\n",
       "    <tr>\n",
       "      <th>13</th>\n",
       "      <td>Hampton University</td>\n",
       "    </tr>\n",
       "  </tbody>\n",
       "</table>\n",
       "</div>"
      ],
      "text/plain": [
       "                                       Institution\n",
       "0                         Jackson State University\n",
       "1                              Tuskegee University\n",
       "2                        Delaware State University\n",
       "3                         Colorado Mesa University\n",
       "4                        Delaware State University\n",
       "5          California State University, Northridge\n",
       "6   Florida Agricultural and Mechanical University\n",
       "7                 University of Houston-Clear Lake\n",
       "8           California State University Northridge\n",
       "9           California State University Los Angels\n",
       "10                    Southern Nazarene Univeristy\n",
       "11                  Xavier UNiversity of Louisiana\n",
       "12                       San Jose State University\n",
       "13                              Hampton University"
      ]
     },
     "execution_count": 9,
     "metadata": {},
     "output_type": "execute_result"
    }
   ],
   "source": [
    "# Finally, import and view the raw data we'll be analyzing \n",
    "inputData = pd.read_csv(topdirectory + 'Inst_class_test.csv')\n",
    "\n",
    "inputData"
   ]
  },
  {
   "cell_type": "markdown",
   "metadata": {
    "id": "WKK-U9WEwmZR"
   },
   "source": [
    "### STEP 2: Running the code.\n",
    "In this step, we will run the function **CMF.CarnegieMatching_OneSpreadsheet()**. This function has the following arguments:\n",
    "1. **inputData** = A data frame containing institution names that we wish to identify (imported earlier).\n",
    "2. **institution_column** = A string name of the column within *inputData* that contains information on institution names.\n",
    "3. **carnegieData** = A data frame of the Carnegie classification database (imported earlier).\n",
    "4. **exceptionsData** = A data frame of potential erroneous or missing names from the Carnegie database (imported earlier).\n",
    "\n",
    "The function returns the following:\n",
    "1. **outputDf** = A data frame identical to inputData, except with three additional columns: \"Homogenized Institution Name\", \"Research Classification\" and \"MSI Classification\".\n",
    "2. **exceptionsDf** = A data frame identical to exceptionsData, except with additional columns containing new exceptions encountered when analyzing *inputData*.\n"
   ]
  },
  {
   "cell_type": "markdown",
   "metadata": {
    "id": "Ljy8tiku0tAH"
   },
   "source": [
    "#### **IMPORTANT NOTE**\n",
    "\n",
    "In order for this function to return a complete list of MSI and research classifications for each institution, it may pause at certain institution names it does not recognize in neither **carnegieData** nor **exceptionsData**. Sometimes, this is due to the fact that the institution is not a university or it has not been encountered in previous tests of this function. Or, it may have some sort of strange capitalization or spacing.\n",
    "\n",
    "In any case, the user will be prompted to input another name for the erroneous institution that the code can search for again. You may need to manually search **carnegieData** or **exceptionsData** for the correct name. If the name is not in either of those spreadsheets, you will need to input the classification by hand. Follow the code's instructions for more details.\n",
    "\n",
    "In the last step before the code is done running, the user (you) will be prompted with a final question: \"*Would you like to automatically update and save your exceptions file ? (Yes/No)*\". It is highly encouraged to answer \"Yes\" to this question, as then the code will ask for your input in automatically saving your exceptions file as a .csv to your device. This adds a layer of security from any new exceptions being lost. If you respond \"No\", your exceptions file will still be returned from the function, but you will then need to save the file on your own."
   ]
  },
  {
   "cell_type": "code",
   "execution_count": 10,
   "metadata": {
    "id": "zPvyATig0uZj"
   },
   "outputs": [],
   "source": [
    "# For demonstration purposes, in this code box, I shorten inputData to only 14 rows.\n",
    "test_inputData = inputData"
   ]
  },
  {
   "cell_type": "code",
   "execution_count": 11,
   "metadata": {
    "id": "arCH5XOl5wFE"
   },
   "outputs": [],
   "source": [
    "# Define the column in inputData wehre the institution names are listed \n",
    "#(it is OK if there are more columns, the code will ignore them)\n",
    "\n",
    "institution_column = 'Institution'"
   ]
  },
  {
   "cell_type": "code",
   "execution_count": null,
   "metadata": {
    "colab": {
     "background_save": true,
     "base_uri": "https://localhost:8080/"
    },
    "id": "vJLv0cQ82YPl",
    "outputId": "e340deef-ccfb-4fb7-86bd-a83fa9642931"
   },
   "outputs": [
    {
     "name": "stdout",
     "output_type": "stream",
     "text": [
      "STEPS 1-3 COMPLETE\n",
      "STEP 4 COMPLETE\n"
     ]
    }
   ],
   "source": [
    "# Now it's time to run the function !! Notice that, when you run this code, you will encounter various input requests as you go along. Respond to each question to the best of your knowledge, referring to the carnegieData and exceptionsData when needed.\n",
    "test_outputDf, test_exceptionsDf = CMF.CarnegieMatching_OneSpreadsheet(test_inputData,\n",
    "                                                                       institution_column,\n",
    "                                                                       carnegieData,\n",
    "                                                                       exceptionsData)"
   ]
  },
  {
   "cell_type": "code",
   "execution_count": null,
   "metadata": {
    "id": "6vFU6vH-2loc"
   },
   "outputs": [],
   "source": [
    "# Success ! Now that the code is done, make sure to save your files if you haven't done so already.\n",
    "test_outputDf.to_csv(topdirectory + 'test_prop_withClassifications.csv')"
   ]
  },
  {
   "cell_type": "code",
   "execution_count": null,
   "metadata": {
    "colab": {
     "base_uri": "https://localhost:8080/",
     "height": 423
    },
    "id": "Aa6xaozf4iAz",
    "outputId": "52322046-cf1c-469a-892d-306a57993895"
   },
   "outputs": [],
   "source": [
    "test_outputDf"
   ]
  },
  {
   "cell_type": "code",
   "execution_count": null,
   "metadata": {
    "id": "xihOnz8aW_KQ"
   },
   "outputs": [],
   "source": []
  }
 ],
 "metadata": {
  "colab": {
   "provenance": []
  },
  "kernelspec": {
   "display_name": "Python 3 (ipykernel)",
   "language": "python",
   "name": "python3"
  },
  "language_info": {
   "codemirror_mode": {
    "name": "ipython",
    "version": 3
   },
   "file_extension": ".py",
   "mimetype": "text/x-python",
   "name": "python",
   "nbconvert_exporter": "python",
   "pygments_lexer": "ipython3",
   "version": "3.10.5"
  }
 },
 "nbformat": 4,
 "nbformat_minor": 1
}
